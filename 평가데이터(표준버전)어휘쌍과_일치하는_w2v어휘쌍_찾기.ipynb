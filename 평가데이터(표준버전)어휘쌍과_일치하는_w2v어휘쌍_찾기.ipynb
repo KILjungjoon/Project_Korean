{
  "cells": [
    {
      "cell_type": "markdown",
      "metadata": {
        "id": "view-in-github",
        "colab_type": "text"
      },
      "source": [
        "<a href=\"https://colab.research.google.com/github/KILjungjoon/Project_Korean/blob/main/%ED%8F%89%EA%B0%80%EB%8D%B0%EC%9D%B4%ED%84%B0(%ED%91%9C%EC%A4%80%EB%B2%84%EC%A0%84)%EC%96%B4%ED%9C%98%EC%8C%8D%EA%B3%BC_%EC%9D%BC%EC%B9%98%ED%95%98%EB%8A%94_w2v%EC%96%B4%ED%9C%98%EC%8C%8D_%EC%B0%BE%EA%B8%B0.ipynb\" target=\"_parent\"><img src=\"https://colab.research.google.com/assets/colab-badge.svg\" alt=\"Open In Colab\"/></a>"
      ]
    },
    {
      "cell_type": "code",
      "execution_count": null,
      "metadata": {
        "colab": {
          "base_uri": "https://localhost:8080/"
        },
        "id": "GX5Ng6LxAust",
        "outputId": "e5969a60-4b96-4c08-fd0b-9da9e44df171"
      },
      "outputs": [
        {
          "output_type": "stream",
          "name": "stdout",
          "text": [
            "Mounted at /content/drive\n"
          ]
        }
      ],
      "source": [
        "from google.colab import drive\n",
        "drive.mount('/content/drive')"
      ]
    },
    {
      "cell_type": "code",
      "execution_count": null,
      "metadata": {
        "id": "K5gUO5CLsDU9"
      },
      "outputs": [],
      "source": [
        "import pandas as pd"
      ]
    },
    {
      "cell_type": "code",
      "source": [
        "# 평가데이터(표준버전)어휘쌍 파일 읽기\n",
        "eval = pd.read_csv('/content/drive/MyDrive/KoreanProject/가공data/words_grade_표준ver.csv')"
      ],
      "metadata": {
        "id": "cdor5nguOlYS"
      },
      "execution_count": null,
      "outputs": []
    },
    {
      "cell_type": "code",
      "execution_count": null,
      "metadata": {
        "id": "Sp-upO6YApIx"
      },
      "outputs": [],
      "source": [
        "# w2v 모델을 불러온다.\n",
        "from gensim.models import word2vec\n",
        "model=word2vec.Word2Vec.load('/content/drive/MyDrive/KoreanProject/w2v_100vec_1min_5wind.model')"
      ]
    },
    {
      "cell_type": "code",
      "source": [
        "# 시간 측정 라이브러리 install\n",
        "!pip install tqdm"
      ],
      "metadata": {
        "colab": {
          "base_uri": "https://localhost:8080/"
        },
        "id": "Qv2t_cxrCk8z",
        "outputId": "b64ab1ef-447c-41d6-e554-d122c01c131d"
      },
      "execution_count": null,
      "outputs": [
        {
          "output_type": "stream",
          "name": "stdout",
          "text": [
            "Looking in indexes: https://pypi.org/simple, https://us-python.pkg.dev/colab-wheels/public/simple/\n",
            "Requirement already satisfied: tqdm in /usr/local/lib/python3.8/dist-packages (4.64.1)\n"
          ]
        }
      ]
    },
    {
      "cell_type": "code",
      "source": [
        "from tqdm import tqdm\n",
        "from time import sleep\n",
        "import numpy as np\n",
        "import os\n",
        "\n",
        "chunk_size = 5000   # 5천행씩 나눠서 실행\n",
        "eval_chunks = np.array_split(eval, np.ceil(len(eval) / chunk_size))\n",
        "\n",
        "for i, eval_chunk in tqdm(enumerate(eval_chunks)):\n",
        "    result = []\n",
        "    for j, row in eval_chunk.iterrows():\n",
        "        try:\n",
        "            similar_words = [(word, similarity) for word, similarity in model.most_similar(row['head.의미어'], topn=1000000) if similarity > 0.5]\n",
        "            vec = pd.DataFrame(similar_words, columns=['word', 'similarity'])\n",
        "            if row['tail.의미어'] in vec['word'].values:\n",
        "                result.append([row['head.의미어'], row['tail.의미어'], row['beta'], vec[vec['word'] == row['tail.의미어']]['similarity'].values[0]])\n",
        "        except KeyError:\n",
        "            continue\n",
        "    result = pd.DataFrame(result, columns=['head.의미어', 'tail.의미어',  'beta', 'similarity'])\n",
        "    filename = \"/content/drive/MyDrive/KoreanProject/가공data/result/result_{}.csv\".format(i)\n",
        "    result.to_csv(filename, index=False)"
      ],
      "metadata": {
        "colab": {
          "base_uri": "https://localhost:8080/"
        },
        "id": "vhjzyv_xCZlD",
        "outputId": "8192970e-9bb7-48db-e605-cac2387b4647"
      },
      "execution_count": null,
      "outputs": [
        {
          "output_type": "stream",
          "name": "stderr",
          "text": [
            "\r0it [00:00, ?it/s]<ipython-input-7-74c97d9385b3>:14: DeprecationWarning: Call to deprecated `most_similar` (Method will be removed in 4.0.0, use self.wv.most_similar() instead).\n",
            "  similar_words = [(word, similarity) for word, similarity in model.most_similar(row['head.의미어'], topn=1000000) if similarity > 0.5]\n",
            "9it [2:15:32, 903.56s/it]\n"
          ]
        }
      ]
    },
    {
      "cell_type": "code",
      "source": [
        "# 최종 결과 파일 불러와서 확인하기\n",
        "df = pd.read_csv('/content/drive/MyDrive/KoreanProject/가공data/result/sg5win100vec1min_result.csv')\n",
        "df.shape"
      ],
      "metadata": {
        "colab": {
          "base_uri": "https://localhost:8080/"
        },
        "id": "0bnF4T8D2iAX",
        "outputId": "14133943-427e-4bfa-a380-9af0bf49180c"
      },
      "execution_count": null,
      "outputs": [
        {
          "output_type": "execute_result",
          "data": {
            "text/plain": [
              "(26498, 4)"
            ]
          },
          "metadata": {},
          "execution_count": 5
        }
      ]
    },
    {
      "cell_type": "markdown",
      "source": [
        "---\n",
        "---\n",
        "---\n",
        "* 이하 소스 코드"
      ],
      "metadata": {
        "id": "BV7tviMD6qkW"
      }
    },
    {
      "cell_type": "code",
      "source": [
        "# 폴더 안의 모든 csv파일을 하나로 합치기\n",
        "import datetime\n",
        "import os\n",
        "import pandas as pd\n",
        "start=datetime.datetime.now()\n",
        "# Get a list of all csv files in the folder\n",
        "folder_path = \"/content/drive/MyDrive/KoreanProject/가공data/result\"\n",
        "csv_files = [f for f in os.listdir(folder_path) if f.endswith(\".csv\")]\n",
        "csv_files.sort()\n",
        "\n",
        "# Read each csv file into a pandas DataFrame\n",
        "df_list = [pd.read_csv(os.path.join(folder_path, f)) for f in csv_files]\n",
        "\n",
        "# Concatenate the DataFrames vertically (row-wise)\n",
        "result = pd.concat(df_list)\n",
        "\n",
        "# Write the result to a single csv file\n",
        "result.to_csv(\"/content/drive/MyDrive/KoreanProject/가공data/result/sg5win100vec1min_result.csv\", index=False)\n",
        "end=datetime.datetime.now()\n",
        "print(end-start)"
      ],
      "metadata": {
        "colab": {
          "base_uri": "https://localhost:8080/"
        },
        "id": "0ep_cdIhxUWf",
        "outputId": "e412d976-1427-4216-d9e6-73c886124f76"
      },
      "execution_count": null,
      "outputs": [
        {
          "output_type": "stream",
          "name": "stdout",
          "text": [
            "0:00:12.584700\n"
          ]
        }
      ]
    },
    {
      "cell_type": "code",
      "source": [
        "# chunk로 나누지 않고 실행할 때 사용하는 코드\n",
        "result = []\n",
        "for i, row in eval.iterrows():\n",
        "    try:\n",
        "        similar_words = [(word, similarity) for word, similarity in model.most_similar(row['head.의미어'], topn=1000000) if similarity > 0.5]\n",
        "        vec = pd.DataFrame(similar_words, columns=['word', 'similarity'])\n",
        "        if row['tail.의미어'] in vec['word'].values:\n",
        "            result.append([row['head.의미어'], row['tail.의미어'], row['beta'], vec[vec['word'] == row['tail.의미어']]['similarity'].values[0]])\n",
        "    except KeyError:\n",
        "        continue\n",
        "result = pd.DataFrame(result, columns=['head.의미어', 'tail.의미어',  'beta', 'similarity'])\n",
        "filename = \"/content/drive/MyDrive/KoreanProject/가공data/result/result_{}.csv\".format(i)\n",
        "result.to_csv(filename, index=False)"
      ],
      "metadata": {
        "colab": {
          "base_uri": "https://localhost:8080/"
        },
        "id": "J_ksYn7TvqyI",
        "outputId": "43be09c8-ce8f-4734-8e9a-eff94afdf521"
      },
      "execution_count": null,
      "outputs": [
        {
          "output_type": "stream",
          "name": "stderr",
          "text": [
            "\r0it [00:00, ?it/s]<ipython-input-15-cd0b2466a863>:4: DeprecationWarning: Call to deprecated `most_similar` (Method will be removed in 4.0.0, use self.wv.most_similar() instead).\n",
            "  similar_words = [(word, similarity) for word, similarity in model.most_similar(row['head.의미어'], topn=1000000) if similarity > 0.5]\n",
            "9658it [20:36, 10.30it/s]"
          ]
        }
      ]
    },
    {
      "cell_type": "code",
      "execution_count": null,
      "metadata": {
        "colab": {
          "base_uri": "https://localhost:8080/",
          "height": 460
        },
        "id": "jdejURX-K61I",
        "outputId": "3deae436-21bf-46d9-9866-390ab00cd8d5"
      },
      "outputs": [
        {
          "output_type": "stream",
          "name": "stderr",
          "text": [
            "<ipython-input-18-cc4d0f260381>:4: DeprecationWarning: Call to deprecated `most_similar` (Method will be removed in 4.0.0, use self.wv.most_similar() instead).\n",
            "  similar_words = [(word, similarity) for word, similarity in model.most_similar(x, topn=100000) if similarity > 0.5]\n"
          ]
        },
        {
          "output_type": "execute_result",
          "data": {
            "text/plain": [
              "         word  similarity\n",
              "0         살덩이    0.892290\n",
              "1         얼음장    0.888160\n",
              "2        화기02    0.886449\n",
              "3        꾸물꾸물    0.885672\n",
              "4        질퍽하다    0.883920\n",
              "...       ...         ...\n",
              "60579    지대09    0.500046\n",
              "60580      산철    0.500034\n",
              "60581     상채기    0.500028\n",
              "60582    전운01    0.500025\n",
              "60583  비슷비슷하다    0.500009\n",
              "\n",
              "[60584 rows x 2 columns]"
            ],
            "text/html": [
              "\n",
              "  <div id=\"df-7d76fb5c-3f39-4581-b45e-e5cfe12218eb\">\n",
              "    <div class=\"colab-df-container\">\n",
              "      <div>\n",
              "<style scoped>\n",
              "    .dataframe tbody tr th:only-of-type {\n",
              "        vertical-align: middle;\n",
              "    }\n",
              "\n",
              "    .dataframe tbody tr th {\n",
              "        vertical-align: top;\n",
              "    }\n",
              "\n",
              "    .dataframe thead th {\n",
              "        text-align: right;\n",
              "    }\n",
              "</style>\n",
              "<table border=\"1\" class=\"dataframe\">\n",
              "  <thead>\n",
              "    <tr style=\"text-align: right;\">\n",
              "      <th></th>\n",
              "      <th>word</th>\n",
              "      <th>similarity</th>\n",
              "    </tr>\n",
              "  </thead>\n",
              "  <tbody>\n",
              "    <tr>\n",
              "      <th>0</th>\n",
              "      <td>살덩이</td>\n",
              "      <td>0.892290</td>\n",
              "    </tr>\n",
              "    <tr>\n",
              "      <th>1</th>\n",
              "      <td>얼음장</td>\n",
              "      <td>0.888160</td>\n",
              "    </tr>\n",
              "    <tr>\n",
              "      <th>2</th>\n",
              "      <td>화기02</td>\n",
              "      <td>0.886449</td>\n",
              "    </tr>\n",
              "    <tr>\n",
              "      <th>3</th>\n",
              "      <td>꾸물꾸물</td>\n",
              "      <td>0.885672</td>\n",
              "    </tr>\n",
              "    <tr>\n",
              "      <th>4</th>\n",
              "      <td>질퍽하다</td>\n",
              "      <td>0.883920</td>\n",
              "    </tr>\n",
              "    <tr>\n",
              "      <th>...</th>\n",
              "      <td>...</td>\n",
              "      <td>...</td>\n",
              "    </tr>\n",
              "    <tr>\n",
              "      <th>60579</th>\n",
              "      <td>지대09</td>\n",
              "      <td>0.500046</td>\n",
              "    </tr>\n",
              "    <tr>\n",
              "      <th>60580</th>\n",
              "      <td>산철</td>\n",
              "      <td>0.500034</td>\n",
              "    </tr>\n",
              "    <tr>\n",
              "      <th>60581</th>\n",
              "      <td>상채기</td>\n",
              "      <td>0.500028</td>\n",
              "    </tr>\n",
              "    <tr>\n",
              "      <th>60582</th>\n",
              "      <td>전운01</td>\n",
              "      <td>0.500025</td>\n",
              "    </tr>\n",
              "    <tr>\n",
              "      <th>60583</th>\n",
              "      <td>비슷비슷하다</td>\n",
              "      <td>0.500009</td>\n",
              "    </tr>\n",
              "  </tbody>\n",
              "</table>\n",
              "<p>60584 rows × 2 columns</p>\n",
              "</div>\n",
              "      <button class=\"colab-df-convert\" onclick=\"convertToInteractive('df-7d76fb5c-3f39-4581-b45e-e5cfe12218eb')\"\n",
              "              title=\"Convert this dataframe to an interactive table.\"\n",
              "              style=\"display:none;\">\n",
              "        \n",
              "  <svg xmlns=\"http://www.w3.org/2000/svg\" height=\"24px\"viewBox=\"0 0 24 24\"\n",
              "       width=\"24px\">\n",
              "    <path d=\"M0 0h24v24H0V0z\" fill=\"none\"/>\n",
              "    <path d=\"M18.56 5.44l.94 2.06.94-2.06 2.06-.94-2.06-.94-.94-2.06-.94 2.06-2.06.94zm-11 1L8.5 8.5l.94-2.06 2.06-.94-2.06-.94L8.5 2.5l-.94 2.06-2.06.94zm10 10l.94 2.06.94-2.06 2.06-.94-2.06-.94-.94-2.06-.94 2.06-2.06.94z\"/><path d=\"M17.41 7.96l-1.37-1.37c-.4-.4-.92-.59-1.43-.59-.52 0-1.04.2-1.43.59L10.3 9.45l-7.72 7.72c-.78.78-.78 2.05 0 2.83L4 21.41c.39.39.9.59 1.41.59.51 0 1.02-.2 1.41-.59l7.78-7.78 2.81-2.81c.8-.78.8-2.07 0-2.86zM5.41 20L4 18.59l7.72-7.72 1.47 1.35L5.41 20z\"/>\n",
              "  </svg>\n",
              "      </button>\n",
              "      \n",
              "  <style>\n",
              "    .colab-df-container {\n",
              "      display:flex;\n",
              "      flex-wrap:wrap;\n",
              "      gap: 12px;\n",
              "    }\n",
              "\n",
              "    .colab-df-convert {\n",
              "      background-color: #E8F0FE;\n",
              "      border: none;\n",
              "      border-radius: 50%;\n",
              "      cursor: pointer;\n",
              "      display: none;\n",
              "      fill: #1967D2;\n",
              "      height: 32px;\n",
              "      padding: 0 0 0 0;\n",
              "      width: 32px;\n",
              "    }\n",
              "\n",
              "    .colab-df-convert:hover {\n",
              "      background-color: #E2EBFA;\n",
              "      box-shadow: 0px 1px 2px rgba(60, 64, 67, 0.3), 0px 1px 3px 1px rgba(60, 64, 67, 0.15);\n",
              "      fill: #174EA6;\n",
              "    }\n",
              "\n",
              "    [theme=dark] .colab-df-convert {\n",
              "      background-color: #3B4455;\n",
              "      fill: #D2E3FC;\n",
              "    }\n",
              "\n",
              "    [theme=dark] .colab-df-convert:hover {\n",
              "      background-color: #434B5C;\n",
              "      box-shadow: 0px 1px 3px 1px rgba(0, 0, 0, 0.15);\n",
              "      filter: drop-shadow(0px 1px 2px rgba(0, 0, 0, 0.3));\n",
              "      fill: #FFFFFF;\n",
              "    }\n",
              "  </style>\n",
              "\n",
              "      <script>\n",
              "        const buttonEl =\n",
              "          document.querySelector('#df-7d76fb5c-3f39-4581-b45e-e5cfe12218eb button.colab-df-convert');\n",
              "        buttonEl.style.display =\n",
              "          google.colab.kernel.accessAllowed ? 'block' : 'none';\n",
              "\n",
              "        async function convertToInteractive(key) {\n",
              "          const element = document.querySelector('#df-7d76fb5c-3f39-4581-b45e-e5cfe12218eb');\n",
              "          const dataTable =\n",
              "            await google.colab.kernel.invokeFunction('convertToInteractive',\n",
              "                                                     [key], {});\n",
              "          if (!dataTable) return;\n",
              "\n",
              "          const docLinkHtml = 'Like what you see? Visit the ' +\n",
              "            '<a target=\"_blank\" href=https://colab.research.google.com/notebooks/data_table.ipynb>data table notebook</a>'\n",
              "            + ' to learn more about interactive tables.';\n",
              "          element.innerHTML = '';\n",
              "          dataTable['output_type'] = 'display_data';\n",
              "          await google.colab.output.renderOutput(dataTable, element);\n",
              "          const docLink = document.createElement('div');\n",
              "          docLink.innerHTML = docLinkHtml;\n",
              "          element.appendChild(docLink);\n",
              "        }\n",
              "      </script>\n",
              "    </div>\n",
              "  </div>\n",
              "  "
            ]
          },
          "metadata": {},
          "execution_count": 18
        }
      ],
      "source": [
        "## x가 주어졌을 때 similar_words와 유사도를 구하는 소스 코드\n",
        "\n",
        "# Find words similar to x with a similarity of 0.5 or higher\n",
        "x = \"내벽\"\n",
        "# Get the top 10 similar words with similarity greater than 0.5\n",
        "similar_words = [(word, similarity) for word, similarity in model.most_similar(x, topn=1000000) if similarity > 0.5]   # topn=1000000, 유사도> 0.5\n",
        "# Create a dataframe with words and similarity as columns\n",
        "df = pd.DataFrame(similar_words, columns=['word', 'similarity'])\n",
        "# Print the dataframe\n",
        "df"
      ]
    },
    {
      "cell_type": "code",
      "execution_count": null,
      "metadata": {
        "colab": {
          "base_uri": "https://localhost:8080/"
        },
        "id": "vh_PxsB7r6V9",
        "outputId": "be09110c-19f1-48de-ff48-96987d0c4be3"
      },
      "outputs": [
        {
          "name": "stderr",
          "output_type": "stream",
          "text": [
            "<ipython-input-12-ef8acf62456e>:1: DeprecationWarning: Call to deprecated `most_similar` (Method will be removed in 4.0.0, use self.wv.most_similar() instead).\n",
            "  model.most_similar(\"천국01\")[0]\n"
          ]
        },
        {
          "data": {
            "text/plain": [
              "('낙원', 0.7937644720077515)"
            ]
          },
          "execution_count": 12,
          "metadata": {},
          "output_type": "execute_result"
        }
      ],
      "source": [
        "model.most_similar(\"천국01\")[0]"
      ]
    },
    {
      "cell_type": "code",
      "source": [
        "df[df['word'].str.contains('안벽')]"
      ],
      "metadata": {
        "colab": {
          "base_uri": "https://localhost:8080/",
          "height": 81
        },
        "id": "vLNG8oxSEU9x",
        "outputId": "ba5cb380-2cdd-4464-ba69-ef41b483ca14"
      },
      "execution_count": null,
      "outputs": [
        {
          "output_type": "execute_result",
          "data": {
            "text/plain": [
              "      word  similarity\n",
              "14598   안벽     0.71078"
            ],
            "text/html": [
              "\n",
              "  <div id=\"df-8f2a11d3-c2fd-4f53-b3cc-b22c2d017b7c\">\n",
              "    <div class=\"colab-df-container\">\n",
              "      <div>\n",
              "<style scoped>\n",
              "    .dataframe tbody tr th:only-of-type {\n",
              "        vertical-align: middle;\n",
              "    }\n",
              "\n",
              "    .dataframe tbody tr th {\n",
              "        vertical-align: top;\n",
              "    }\n",
              "\n",
              "    .dataframe thead th {\n",
              "        text-align: right;\n",
              "    }\n",
              "</style>\n",
              "<table border=\"1\" class=\"dataframe\">\n",
              "  <thead>\n",
              "    <tr style=\"text-align: right;\">\n",
              "      <th></th>\n",
              "      <th>word</th>\n",
              "      <th>similarity</th>\n",
              "    </tr>\n",
              "  </thead>\n",
              "  <tbody>\n",
              "    <tr>\n",
              "      <th>14598</th>\n",
              "      <td>안벽</td>\n",
              "      <td>0.71078</td>\n",
              "    </tr>\n",
              "  </tbody>\n",
              "</table>\n",
              "</div>\n",
              "      <button class=\"colab-df-convert\" onclick=\"convertToInteractive('df-8f2a11d3-c2fd-4f53-b3cc-b22c2d017b7c')\"\n",
              "              title=\"Convert this dataframe to an interactive table.\"\n",
              "              style=\"display:none;\">\n",
              "        \n",
              "  <svg xmlns=\"http://www.w3.org/2000/svg\" height=\"24px\"viewBox=\"0 0 24 24\"\n",
              "       width=\"24px\">\n",
              "    <path d=\"M0 0h24v24H0V0z\" fill=\"none\"/>\n",
              "    <path d=\"M18.56 5.44l.94 2.06.94-2.06 2.06-.94-2.06-.94-.94-2.06-.94 2.06-2.06.94zm-11 1L8.5 8.5l.94-2.06 2.06-.94-2.06-.94L8.5 2.5l-.94 2.06-2.06.94zm10 10l.94 2.06.94-2.06 2.06-.94-2.06-.94-.94-2.06-.94 2.06-2.06.94z\"/><path d=\"M17.41 7.96l-1.37-1.37c-.4-.4-.92-.59-1.43-.59-.52 0-1.04.2-1.43.59L10.3 9.45l-7.72 7.72c-.78.78-.78 2.05 0 2.83L4 21.41c.39.39.9.59 1.41.59.51 0 1.02-.2 1.41-.59l7.78-7.78 2.81-2.81c.8-.78.8-2.07 0-2.86zM5.41 20L4 18.59l7.72-7.72 1.47 1.35L5.41 20z\"/>\n",
              "  </svg>\n",
              "      </button>\n",
              "      \n",
              "  <style>\n",
              "    .colab-df-container {\n",
              "      display:flex;\n",
              "      flex-wrap:wrap;\n",
              "      gap: 12px;\n",
              "    }\n",
              "\n",
              "    .colab-df-convert {\n",
              "      background-color: #E8F0FE;\n",
              "      border: none;\n",
              "      border-radius: 50%;\n",
              "      cursor: pointer;\n",
              "      display: none;\n",
              "      fill: #1967D2;\n",
              "      height: 32px;\n",
              "      padding: 0 0 0 0;\n",
              "      width: 32px;\n",
              "    }\n",
              "\n",
              "    .colab-df-convert:hover {\n",
              "      background-color: #E2EBFA;\n",
              "      box-shadow: 0px 1px 2px rgba(60, 64, 67, 0.3), 0px 1px 3px 1px rgba(60, 64, 67, 0.15);\n",
              "      fill: #174EA6;\n",
              "    }\n",
              "\n",
              "    [theme=dark] .colab-df-convert {\n",
              "      background-color: #3B4455;\n",
              "      fill: #D2E3FC;\n",
              "    }\n",
              "\n",
              "    [theme=dark] .colab-df-convert:hover {\n",
              "      background-color: #434B5C;\n",
              "      box-shadow: 0px 1px 3px 1px rgba(0, 0, 0, 0.15);\n",
              "      filter: drop-shadow(0px 1px 2px rgba(0, 0, 0, 0.3));\n",
              "      fill: #FFFFFF;\n",
              "    }\n",
              "  </style>\n",
              "\n",
              "      <script>\n",
              "        const buttonEl =\n",
              "          document.querySelector('#df-8f2a11d3-c2fd-4f53-b3cc-b22c2d017b7c button.colab-df-convert');\n",
              "        buttonEl.style.display =\n",
              "          google.colab.kernel.accessAllowed ? 'block' : 'none';\n",
              "\n",
              "        async function convertToInteractive(key) {\n",
              "          const element = document.querySelector('#df-8f2a11d3-c2fd-4f53-b3cc-b22c2d017b7c');\n",
              "          const dataTable =\n",
              "            await google.colab.kernel.invokeFunction('convertToInteractive',\n",
              "                                                     [key], {});\n",
              "          if (!dataTable) return;\n",
              "\n",
              "          const docLinkHtml = 'Like what you see? Visit the ' +\n",
              "            '<a target=\"_blank\" href=https://colab.research.google.com/notebooks/data_table.ipynb>data table notebook</a>'\n",
              "            + ' to learn more about interactive tables.';\n",
              "          element.innerHTML = '';\n",
              "          dataTable['output_type'] = 'display_data';\n",
              "          await google.colab.output.renderOutput(dataTable, element);\n",
              "          const docLink = document.createElement('div');\n",
              "          docLink.innerHTML = docLinkHtml;\n",
              "          element.appendChild(docLink);\n",
              "        }\n",
              "      </script>\n",
              "    </div>\n",
              "  </div>\n",
              "  "
            ]
          },
          "metadata": {},
          "execution_count": 30
        }
      ]
    },
    {
      "cell_type": "code",
      "execution_count": null,
      "metadata": {
        "colab": {
          "base_uri": "https://localhost:8080/",
          "height": 143
        },
        "id": "UKnr8k-IJwS7",
        "outputId": "b9dec663-07bd-412e-a2c9-77100e8e4ec8"
      },
      "outputs": [
        {
          "data": {
            "text/html": [
              "\n",
              "  <div id=\"df-597ed65d-14ac-4694-a2fe-3dc05056203e\">\n",
              "    <div class=\"colab-df-container\">\n",
              "      <div>\n",
              "<style scoped>\n",
              "    .dataframe tbody tr th:only-of-type {\n",
              "        vertical-align: middle;\n",
              "    }\n",
              "\n",
              "    .dataframe tbody tr th {\n",
              "        vertical-align: top;\n",
              "    }\n",
              "\n",
              "    .dataframe thead th {\n",
              "        text-align: right;\n",
              "    }\n",
              "</style>\n",
              "<table border=\"1\" class=\"dataframe\">\n",
              "  <thead>\n",
              "    <tr style=\"text-align: right;\">\n",
              "      <th></th>\n",
              "      <th>head.voca</th>\n",
              "      <th>head.의미어</th>\n",
              "      <th>head.의미번호</th>\n",
              "      <th>tail.voca</th>\n",
              "      <th>tail.의미어</th>\n",
              "      <th>tail.의미번호</th>\n",
              "      <th>beta</th>\n",
              "    </tr>\n",
              "  </thead>\n",
              "  <tbody>\n",
              "    <tr>\n",
              "      <th>0</th>\n",
              "      <td>건축-값</td>\n",
              "      <td>건축값001</td>\n",
              "      <td>1</td>\n",
              "      <td>건축-액</td>\n",
              "      <td>건축액001</td>\n",
              "      <td>1</td>\n",
              "      <td>2.620510</td>\n",
              "    </tr>\n",
              "    <tr>\n",
              "      <th>79005</th>\n",
              "      <td>건축-값</td>\n",
              "      <td>건축값001</td>\n",
              "      <td>1</td>\n",
              "      <td>비용</td>\n",
              "      <td>비용004</td>\n",
              "      <td>4</td>\n",
              "      <td>3.022731</td>\n",
              "    </tr>\n",
              "    <tr>\n",
              "      <th>180004</th>\n",
              "      <td>건축-값</td>\n",
              "      <td>건축값001</td>\n",
              "      <td>1</td>\n",
              "      <td>공사-비</td>\n",
              "      <td>공사비001</td>\n",
              "      <td>1</td>\n",
              "      <td>3.054716</td>\n",
              "    </tr>\n",
              "  </tbody>\n",
              "</table>\n",
              "</div>\n",
              "      <button class=\"colab-df-convert\" onclick=\"convertToInteractive('df-597ed65d-14ac-4694-a2fe-3dc05056203e')\"\n",
              "              title=\"Convert this dataframe to an interactive table.\"\n",
              "              style=\"display:none;\">\n",
              "        \n",
              "  <svg xmlns=\"http://www.w3.org/2000/svg\" height=\"24px\"viewBox=\"0 0 24 24\"\n",
              "       width=\"24px\">\n",
              "    <path d=\"M0 0h24v24H0V0z\" fill=\"none\"/>\n",
              "    <path d=\"M18.56 5.44l.94 2.06.94-2.06 2.06-.94-2.06-.94-.94-2.06-.94 2.06-2.06.94zm-11 1L8.5 8.5l.94-2.06 2.06-.94-2.06-.94L8.5 2.5l-.94 2.06-2.06.94zm10 10l.94 2.06.94-2.06 2.06-.94-2.06-.94-.94-2.06-.94 2.06-2.06.94z\"/><path d=\"M17.41 7.96l-1.37-1.37c-.4-.4-.92-.59-1.43-.59-.52 0-1.04.2-1.43.59L10.3 9.45l-7.72 7.72c-.78.78-.78 2.05 0 2.83L4 21.41c.39.39.9.59 1.41.59.51 0 1.02-.2 1.41-.59l7.78-7.78 2.81-2.81c.8-.78.8-2.07 0-2.86zM5.41 20L4 18.59l7.72-7.72 1.47 1.35L5.41 20z\"/>\n",
              "  </svg>\n",
              "      </button>\n",
              "      \n",
              "  <style>\n",
              "    .colab-df-container {\n",
              "      display:flex;\n",
              "      flex-wrap:wrap;\n",
              "      gap: 12px;\n",
              "    }\n",
              "\n",
              "    .colab-df-convert {\n",
              "      background-color: #E8F0FE;\n",
              "      border: none;\n",
              "      border-radius: 50%;\n",
              "      cursor: pointer;\n",
              "      display: none;\n",
              "      fill: #1967D2;\n",
              "      height: 32px;\n",
              "      padding: 0 0 0 0;\n",
              "      width: 32px;\n",
              "    }\n",
              "\n",
              "    .colab-df-convert:hover {\n",
              "      background-color: #E2EBFA;\n",
              "      box-shadow: 0px 1px 2px rgba(60, 64, 67, 0.3), 0px 1px 3px 1px rgba(60, 64, 67, 0.15);\n",
              "      fill: #174EA6;\n",
              "    }\n",
              "\n",
              "    [theme=dark] .colab-df-convert {\n",
              "      background-color: #3B4455;\n",
              "      fill: #D2E3FC;\n",
              "    }\n",
              "\n",
              "    [theme=dark] .colab-df-convert:hover {\n",
              "      background-color: #434B5C;\n",
              "      box-shadow: 0px 1px 3px 1px rgba(0, 0, 0, 0.15);\n",
              "      filter: drop-shadow(0px 1px 2px rgba(0, 0, 0, 0.3));\n",
              "      fill: #FFFFFF;\n",
              "    }\n",
              "  </style>\n",
              "\n",
              "      <script>\n",
              "        const buttonEl =\n",
              "          document.querySelector('#df-597ed65d-14ac-4694-a2fe-3dc05056203e button.colab-df-convert');\n",
              "        buttonEl.style.display =\n",
              "          google.colab.kernel.accessAllowed ? 'block' : 'none';\n",
              "\n",
              "        async function convertToInteractive(key) {\n",
              "          const element = document.querySelector('#df-597ed65d-14ac-4694-a2fe-3dc05056203e');\n",
              "          const dataTable =\n",
              "            await google.colab.kernel.invokeFunction('convertToInteractive',\n",
              "                                                     [key], {});\n",
              "          if (!dataTable) return;\n",
              "\n",
              "          const docLinkHtml = 'Like what you see? Visit the ' +\n",
              "            '<a target=\"_blank\" href=https://colab.research.google.com/notebooks/data_table.ipynb>data table notebook</a>'\n",
              "            + ' to learn more about interactive tables.';\n",
              "          element.innerHTML = '';\n",
              "          dataTable['output_type'] = 'display_data';\n",
              "          await google.colab.output.renderOutput(dataTable, element);\n",
              "          const docLink = document.createElement('div');\n",
              "          docLink.innerHTML = docLinkHtml;\n",
              "          element.appendChild(docLink);\n",
              "        }\n",
              "      </script>\n",
              "    </div>\n",
              "  </div>\n",
              "  "
            ],
            "text/plain": [
              "       head.voca head.의미어  head.의미번호 tail.voca tail.의미어  tail.의미번호      beta\n",
              "0           건축-값   건축값001          1      건축-액   건축액001          1  2.620510\n",
              "79005       건축-값   건축값001          1        비용    비용004          4  3.022731\n",
              "180004      건축-값   건축값001          1      공사-비   공사비001          1  3.054716"
            ]
          },
          "execution_count": 7,
          "metadata": {},
          "output_type": "execute_result"
        }
      ],
      "source": [
        "df[df['head.의미어'].str.contains('건축값')]"
      ]
    }
  ],
  "metadata": {
    "colab": {
      "provenance": [],
      "authorship_tag": "ABX9TyMMaicjXkV43RTGRRLIOJTk",
      "include_colab_link": true
    },
    "kernelspec": {
      "display_name": "Python 3",
      "name": "python3"
    },
    "language_info": {
      "name": "python"
    }
  },
  "nbformat": 4,
  "nbformat_minor": 0
}